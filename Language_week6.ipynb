{
  "nbformat": 4,
  "nbformat_minor": 0,
  "metadata": {
    "colab": {
      "provenance": [],
      "authorship_tag": "ABX9TyM8vwqzpPi3yi03hwccOT++",
      "include_colab_link": true
    },
    "kernelspec": {
      "name": "python3",
      "display_name": "Python 3"
    },
    "language_info": {
      "name": "python"
    }
  },
  "cells": [
    {
      "cell_type": "markdown",
      "metadata": {
        "id": "view-in-github",
        "colab_type": "text"
      },
      "source": [
        "<a href=\"https://colab.research.google.com/github/sarannetworkprogammer/CS50AI/blob/main/Language_week6.ipynb\" target=\"_parent\"><img src=\"https://colab.research.google.com/assets/colab-badge.svg\" alt=\"Open In Colab\"/></a>"
      ]
    },
    {
      "cell_type": "code",
      "execution_count": null,
      "metadata": {
        "id": "rD87g55IwbGe"
      },
      "outputs": [],
      "source": [
        "import nltk\n",
        "\n",
        "grammer = nltk.CFG.fromstring(\"\"\"\n",
        "\n",
        "  S -> NP VP\n",
        "\n",
        "\n",
        "  NP -> D N | N\n",
        "  VP -> V | V NP\n",
        "\n",
        "  D -> \"the\" | \"a\"\n",
        "\n",
        "  N -> \"she\" | \"city\" | \"car\"\n",
        "\n",
        "  v -> \"saw\" | \"walked\"\n",
        "\n",
        "\n",
        "\n",
        "\"\"\")\n",
        "\n",
        "parser = nltk.ChartParser(grammer)\n",
        "\n",
        "\n",
        "sentence = input(\"sentence:\").split()\n",
        "\n",
        "try:\n",
        "  for tree in parser.parse(sentence):\n",
        "    tree.pretty_print()\n",
        "    tree.draw()\n",
        "\n",
        "except ValueError:\n",
        "\n",
        "  print(\"No parse tree possible\")\n"
      ]
    },
    {
      "cell_type": "code",
      "source": [
        "\n",
        "\n",
        "\n",
        "\n",
        "\n",
        "\n",
        "\n",
        "\n",
        "\n",
        "\n",
        "\n",
        "\n",
        "\n",
        "\n",
        "\n",
        "\n",
        "\n",
        "\n",
        "\n",
        "\n",
        "\n",
        "\n",
        "\n",
        "\n",
        "\n",
        "\n",
        "\n",
        "\n",
        "\n",
        "\n",
        "\n",
        "\n",
        "\n",
        "\n",
        "\n",
        "\n",
        "\n",
        "\n",
        "\n",
        "\n",
        "\n",
        "\n",
        "\n",
        "\n"
      ],
      "metadata": {
        "id": "afEnTgm6xR2Y"
      },
      "execution_count": 8,
      "outputs": []
    },
    {
      "cell_type": "code",
      "source": [],
      "metadata": {
        "id": "7cruH9MwxA6c"
      },
      "execution_count": null,
      "outputs": []
    }
  ]
}